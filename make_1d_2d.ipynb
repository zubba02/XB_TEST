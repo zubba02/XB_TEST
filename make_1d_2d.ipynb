{
 "cells": [
  {
   "cell_type": "code",
   "execution_count": 1,
   "id": "01395d25-b078-4399-bcd8-a35b30280281",
   "metadata": {},
   "outputs": [],
   "source": [
    "import numpy as np"
   ]
  },
  {
   "cell_type": "code",
   "execution_count": 2,
   "id": "1bc596a6-b6d5-4e54-aab2-270a4d780205",
   "metadata": {},
   "outputs": [],
   "source": [
    "data = np.loadtxt('clippedbathy_with_coord_1500_1500.csv', delimiter =',')"
   ]
  },
  {
   "cell_type": "code",
   "execution_count": 5,
   "id": "71ddfbae-0ef4-4ba3-860d-0b56931f0e0f",
   "metadata": {},
   "outputs": [],
   "source": [
    "np.savetxt('bathy.dep', data[:,2].reshape(1500,1500))"
   ]
  },
  {
   "cell_type": "code",
   "execution_count": 9,
   "id": "a6ab42d3-7dcc-40c6-b574-f5e8b38c77ad",
   "metadata": {},
   "outputs": [
    {
     "data": {
      "text/plain": [
       "272871.375"
      ]
     },
     "execution_count": 9,
     "metadata": {},
     "output_type": "execute_result"
    }
   ],
   "source": [
    "data[:,0].max()"
   ]
  },
  {
   "cell_type": "code",
   "execution_count": null,
   "id": "c70e11ec-cc33-4563-b350-912fa33ef270",
   "metadata": {},
   "outputs": [],
   "source": []
  }
 ],
 "metadata": {
  "kernelspec": {
   "display_name": "Python 3 (ipykernel)",
   "language": "python",
   "name": "python3"
  },
  "language_info": {
   "codemirror_mode": {
    "name": "ipython",
    "version": 3
   },
   "file_extension": ".py",
   "mimetype": "text/x-python",
   "name": "python",
   "nbconvert_exporter": "python",
   "pygments_lexer": "ipython3",
   "version": "3.10.12"
  }
 },
 "nbformat": 4,
 "nbformat_minor": 5
}
